{
  "cells": [
    {
      "cell_type": "markdown",
      "source": [
        "Check GPU information"
      ],
      "metadata": {
        "id": "6uERP3K5iv-j"
      }
    },
    {
      "cell_type": "code",
      "execution_count": null,
      "metadata": {
        "id": "ZOT2rhetn6oz"
      },
      "outputs": [],
      "source": [
        "gpu_info = !nvidia-smi\n",
        "gpu_info = '\\n'.join(gpu_info)\n",
        "if gpu_info.find('failed') >= 0:\n",
        "  print('Not connected to a GPU')\n",
        "else:\n",
        "  print(gpu_info)"
      ]
    },
    {
      "cell_type": "markdown",
      "source": [
        "Install SuPar"
      ],
      "metadata": {
        "id": "GA8zunDqi3tZ"
      }
    },
    {
      "cell_type": "code",
      "execution_count": null,
      "metadata": {
        "id": "JKPVMXOL2gj7"
      },
      "outputs": [],
      "source": [
        "!pip install -U supar"
      ]
    },
    {
      "cell_type": "markdown",
      "source": [
        "Mount Google Drive or prepare data as you like. Make sure all the following data paths are correct."
      ],
      "metadata": {
        "id": "Gd_VOWy-jMrz"
      }
    },
    {
      "cell_type": "code",
      "execution_count": null,
      "metadata": {
        "id": "lIa4YmN57CNO"
      },
      "outputs": [],
      "source": [
        "from google.colab import drive\n",
        "drive.mount('/content/drive')\n",
        "!cp -r drive/MyDrive/AdvTree/data ."
      ]
    },
    {
      "cell_type": "markdown",
      "source": [
        "Pre-training with all training data on UD Turkish"
      ],
      "metadata": {
        "id": "Gv80j5jmjqUx"
      }
    },
    {
      "cell_type": "code",
      "execution_count": null,
      "metadata": {
        "id": "ZDOwMt_2UYKK"
      },
      "outputs": [],
      "source": [
        "!python -u -m supar.cmds.biaffine_dep train -b -d 0 -c biaffine-dep-en -p udtur_biaffine_pretrainall -f char \\\n",
        "    --train data/ud2.3_tur/train.conllu  \\\n",
        "    --dev data/ud2.3_tur/dev.conllu  \\\n",
        "    --test data/ud2.3_tur/test.conllu  \\\n",
        "    --embed \"\"\n",
        "!cp udtur_biaffine_pretrainall udtur_biaffine_pretrainall_backup"
      ]
    },
    {
      "cell_type": "markdown",
      "source": [
        "Pre-training with all training data and BERT on PTB"
      ],
      "metadata": {
        "id": "6B1lTqytjzUZ"
      }
    },
    {
      "cell_type": "code",
      "execution_count": null,
      "metadata": {
        "id": "cvRwBTcUkBXs"
      },
      "outputs": [],
      "source": [
        "!python -u -m supar.cmds.biaffine_dep train -b -d 0 -c biaffine-dep-roberta-en -p ptb_biaffine_roberta_pretrainall \\\n",
        "    --train data/ptb_sd330/train.subset10.conllx  \\\n",
        "    --dev data/ptb_sd330/dev.conllx  \\\n",
        "    --test data/ptb_sd330/test.conllx  \\\n",
        "    --encoder=bert  \\\n",
        "    --bert=roberta-large  \\\n",
        "    --lr=5e-5  \\\n",
        "    --lr-rate=20  \\\n",
        "    --epochs=30  \\\n",
        "    --update-steps=4\n",
        "!cp ptb_biaffine_roberta_pretrainall ptb_biaffine_roberta_pretrainall_backup"
      ]
    },
    {
      "cell_type": "markdown",
      "source": [
        "Pre-training with all training data and BERT on CTB"
      ],
      "metadata": {
        "id": "DUWp-qE7kHnh"
      }
    },
    {
      "cell_type": "code",
      "execution_count": null,
      "metadata": {
        "id": "QNEoVLxVyTrk"
      },
      "outputs": [],
      "source": [
        "!python -u -m supar.cmds.biaffine_dep train -b -d 0 -c biaffine-dep-electra-zh \\\n",
        "        -p ctb5_biaffine_electra_zh_pretrainall \\\n",
        "        --train data/ctb5_sd330/train.subset1000.conll  \\\n",
        "        --dev data/ctb5_sd330/dev.conll  \\\n",
        "        --test data/ctb5_sd330/test.conll  \\\n",
        "        --epochs=30  \\\n",
        "        --encoder=bert  \\\n",
        "        --bert=hfl/chinese-electra-180g-large-discriminator\n",
        "!cp ctb5_biaffine_electra_zh_pretrainall ctb5_biaffine_electra_zh_pretrainall_backup"
      ]
    },
    {
      "cell_type": "markdown",
      "source": [
        "Pre-training with all training data and BERT on UD Dutch"
      ],
      "metadata": {
        "id": "MN_bheuulBIU"
      }
    },
    {
      "cell_type": "code",
      "execution_count": null,
      "metadata": {
        "id": "1NANp09FsKan"
      },
      "outputs": [],
      "source": [
        "!python -u -m supar.cmds.biaffine_dep train -b -d 0 -c biaffine-dep-xlmr -p ud23nllas_biaffine_xlmr_pretrainall \\\n",
        "    --train data/ud2.3_nl_las/train.conllu  \\\n",
        "    --dev data/ud2.3_nl_las/dev.conllu  \\\n",
        "    --test data/ud2.3_nl_las/test.conllu  \\\n",
        "    --epochs=30 \\\n",
        "    --encoder=bert  \\\n",
        "    --bert=xlm-roberta-large\n",
        "!cp ud23nllas_biaffine_xlmr_pretrainall ud23nllas_biaffine_xlmr_pretrainall_backup"
      ]
    },
    {
      "cell_type": "code",
      "execution_count": null,
      "metadata": {
        "id": "c5Ed9DN33lp7"
      },
      "outputs": [],
      "source": [
        "from supar import Parser\n",
        "parser = Parser.load('ptb_biaffine_roberta_pretrainall')\n",
        "parser.evaluate('data/ptb_sd330/test.conllx', verbose = True)"
      ]
    },
    {
      "cell_type": "markdown",
      "metadata": {
        "id": "wjj05qcIKS61"
      },
      "source": [
        "Modify SuPar code for pre-training on UD Turkish"
      ]
    },
    {
      "cell_type": "code",
      "execution_count": null,
      "metadata": {
        "id": "wavA3b7ztJ1q"
      },
      "outputs": [],
      "source": [
        "!cp supar_modified/models_dep_binceloss.py /usr/local/lib/python3.7/dist-packages/supar/models/dep.py\n",
        "!cp supar_modified/parsers_dep_nolossineval.py /usr/local/lib/python3.7/dist-packages/supar/parsers/dep.py\n",
        "!cp supar_modified/parsers_parser_noearlystop.py /usr/local/lib/python3.7/dist-packages/supar/parsers/parser.py\n",
        "!cp supar_modified/utils_metric_bestuas.py /usr/local/lib/python3.7/dist-packages/supar/utils/metric.py"
      ]
    },
    {
      "cell_type": "code",
      "execution_count": null,
      "metadata": {
        "id": "hPodGwHr0wOR"
      },
      "outputs": [],
      "source": [
        "for trial_idx in range(5):\n",
        "    for n_train in [10, 50, 100, 1000]:\n",
        "        !python -u -m supar.cmds.biaffine_dep train -b -d 0 -c biaffine-dep-en -p udtur_biaffine_pretrainall -f char \\\n",
        "            --train data/ud2.3_tur/train.trial{trial_idx}.subset{n_train}.conllu \\\n",
        "            --dev data/ud2.3_tur/dev.conllu \\\n",
        "            --test data/ud2.3_tur/test.conllu \\\n",
        "            --embed \"\"\n",
        "        !mv udtur_biaffine_pretrainall udtur_biaffine_pretrainall_trial{trial_idx}_subset{n_train}"
      ]
    },
    {
      "cell_type": "markdown",
      "source": [
        "Modify SuPar code and train the final layer on UD Turkish"
      ],
      "metadata": {
        "id": "u5WqPQVBq7JC"
      }
    },
    {
      "cell_type": "code",
      "source": [
        "!cp supar_modified/models_dep_hlocalarc.py /usr/local/lib/python3.7/dist-packages/supar/models/dep.py\n",
        "!cp supar_modified/parsers_dep_nolossineval.py /usr/local/lib/python3.7/dist-packages/supar/parsers/dep.py\n",
        "!cp supar_modified/parsers_parser_freezeallbutlastlayer.py /usr/local/lib/python3.7/dist-packages/supar/parsers/parser.py\n",
        "!cp supar_modified/utils_metric_bestuas.py /usr/local/lib/python3.7/dist-packages/supar/utils/metric.py"
      ],
      "metadata": {
        "id": "dsuGSZUHkRpY"
      },
      "execution_count": null,
      "outputs": []
    },
    {
      "cell_type": "code",
      "execution_count": null,
      "metadata": {
        "id": "lYZwdaI-qMRm"
      },
      "outputs": [],
      "source": [
        "for trial_idx in range(5):\n",
        "    for n_train in [10, 50, 100, 1000]:\n",
        "        !python -u -m supar.cmds.biaffine_dep train -b -d 0 -c biaffine-dep-en -p udtur_biaffine_pretrainall_trial{trial_idx}_subset{n_train} -f char \\\n",
        "            --train data/ud2.3_tur/train.trial{trial_idx}.subset{n_train}.conllu \\\n",
        "            --dev data/ud2.3_tur/dev.conllu \\\n",
        "            --test data/ud2.3_tur/test.conllu \\\n",
        "            --checkpoint \\\n",
        "            --embed \"\""
      ]
    },
    {
      "cell_type": "markdown",
      "source": [
        "Modify SuPar code and train the final layer on PTB"
      ],
      "metadata": {
        "id": "zM0AqH73sjLX"
      }
    },
    {
      "cell_type": "code",
      "execution_count": null,
      "metadata": {
        "id": "P8Ln4AbBJypi"
      },
      "outputs": [],
      "source": [
        "!cp supar_modified/models_dep_hlocalarc.py /usr/local/lib/python3.7/dist-packages/supar/models/dep.py\n",
        "!cp supar_modified/parsers_dep_nolossineval.py /usr/local/lib/python3.7/dist-packages/supar/parsers/dep.py\n",
        "!cp supar_modified/parsers_parser_freezeallbutlastlayer.py /usr/local/lib/python3.7/dist-packages/supar/parsers/parser.py\n",
        "!cp supar_modified/utils_metric_bestuas.py /usr/local/lib/python3.7/dist-packages/supar/utils/metric.py"
      ]
    },
    {
      "cell_type": "code",
      "execution_count": null,
      "metadata": {
        "id": "dVHoE_uszwqj"
      },
      "outputs": [],
      "source": [
        "for trial_idx in range(5):\n",
        "    for n_train in [10, 50, 100, 1000]:\n",
        "        !cp ptb_biaffine_roberta_pretrainall_backup ptb_biaffine_roberta_pretrainall\n",
        "        !python -u -m supar.cmds.biaffine_dep train -b -d 0 -c biaffine-dep-roberta-en -p ptb_biaffine_roberta_pretrainall \\\n",
        "            --train data/ptb_sd330/train.trial{trial_idx}.subset{n_train}.conllx  \\\n",
        "            --dev data/ptb_sd330/dev.conllx  \\\n",
        "            --test data/ptb_sd330/test.conllx  \\\n",
        "            --checkpoint \\\n",
        "            --encoder=bert  \\\n",
        "            --bert=roberta-large  \\\n",
        "            --lr=5e-5  \\\n",
        "            --lr-rate=20  \\\n",
        "            --epochs=30  \\\n",
        "            --update-steps=4\n",
        "        !mv ptb_biaffine_roberta_pretrainall ptb_biaffine_roberta_pretrainall_trial{trial_idx}_subset{n_train}"
      ]
    },
    {
      "cell_type": "markdown",
      "source": [
        "Modify SuPar code to evaluate the models and get the datasets with pre-trained features for our DRO methods"
      ],
      "metadata": {
        "id": "KTDD0_dBuJCI"
      }
    },
    {
      "cell_type": "code",
      "execution_count": null,
      "metadata": {
        "id": "Oj-dQ1JDJ9_c"
      },
      "outputs": [],
      "source": [
        "!cp supar_modified/models_dep_getfeature.py /usr/local/lib/python3.7/dist-packages/supar/models/dep.py\n",
        "!cp supar_modified/parsers_dep_getfeature.py /usr/local/lib/python3.7/dist-packages/supar/parsers/dep.py\n",
        "!cp supar_modified/parsers_parser_freezeallbutlastlayer.py /usr/local/lib/python3.7/dist-packages/supar/parsers/parser.py\n",
        "!cp supar_modified/utils_metric_bestuas.py /usr/local/lib/python3.7/dist-packages/supar/utils/metric.py"
      ]
    },
    {
      "cell_type": "code",
      "execution_count": null,
      "metadata": {
        "id": "rBKW_0thJNaw"
      },
      "outputs": [],
      "source": [
        "import numpy as np\n",
        "import supar\n",
        "\n",
        "test_metric_list = []\n",
        "for n_train in [10, 50, 100, 1000]:\n",
        "    for trial_idx in range(5):\n",
        "        base_folder = 'data/ptb_sd330/'\n",
        "        model = supar.Parser.load('ptb_biaffine_roberta_pretrainall_trial{}_subset{}'.format(trial_idx, n_train))\n",
        "        set_names = ['train', 'dev', 'test']\n",
        "        file_names = ['train.trial{}.subset{}'.format(trial_idx, n_train), 'dev', 'test']\n",
        "        overall_data = {}\n",
        "        for i in range(len(set_names)):\n",
        "            file_path = base_folder + '{}.conllx'.format(file_names[i])\n",
        "            _, cur_metric, processed_data_list = model.evaluate(file_path, verbose = True)\n",
        "            if set_names[i] == 'test':\n",
        "                test_metric_list.append(cur_metric)\n",
        "            overall_data[set_names[i]] = processed_data_list\n",
        "        np.save(base_folder + 'ptb_biaffine_roberta_pretrainall_trial{}_subset{}.npy'.format(trial_idx, n_train), overall_data)\n",
        "\n",
        "for cur_metric in test_metric_list:\n",
        "    print('{}'.format(cur_metric))"
      ]
    },
    {
      "cell_type": "code",
      "execution_count": null,
      "metadata": {
        "id": "t2nDXOPSgl2J"
      },
      "outputs": [],
      "source": [
        "!cp data/ptb_sd330/*.npy drive/MyDrive/AdvTree/data/ptb_sd330/"
      ]
    }
  ],
  "metadata": {
    "accelerator": "GPU",
    "colab": {
      "collapsed_sections": [],
      "machine_shape": "hm",
      "provenance": []
    },
    "kernelspec": {
      "display_name": "Python 3",
      "name": "python3"
    },
    "language_info": {
      "name": "python"
    }
  },
  "nbformat": 4,
  "nbformat_minor": 0
}